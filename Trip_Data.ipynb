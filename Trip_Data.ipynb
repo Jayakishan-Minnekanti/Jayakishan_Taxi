{
 "cells": [
  {
   "attachments": {},
   "cell_type": "markdown",
   "metadata": {},
   "source": [
    "```python\n",
    "* Below we are reading the csv file & printing few rows to check the structure of the file.\n",
    "```"
   ]
  },
  {
   "cell_type": "code",
   "execution_count": 1,
   "metadata": {},
   "outputs": [
    {
     "name": "stdout",
     "output_type": "stream",
     "text": [
      "\u001b[34m ['medallion', 'hack_license', 'vendor_id', 'rate_code', 'store_and_fwd_flag', 'pickup_datetime', 'dropoff_datetime', 'passenger_count', 'trip_time_in_secs', 'trip_distance', 'pickup_longitude', 'pickup_latitude', 'dropoff_longitude', 'dropoff_latitude'] \u001b[0m\n",
      "\u001b[34m ['1B5C0970F2AE8CFFBA8AE4584BEAED29', 'D961332334524990D1BBD462E2EFB8A4', 'CMT', '1', 'N', '2013-02-08 23:35:14', '2013-02-08 23:42:58', '1', '463', '.80', '-73.992439', '40.724487', '-73.984421', '40.718903'] \u001b[0m\n",
      "\u001b[34m ['B42249AE16E2B8E556F1CB1F940D6FB4', 'D4BB308D1F3FCB3434D9DB282CDC93D7', 'CMT', '1', 'N', '2013-02-07 12:20:16', '2013-02-07 12:50:27', '4', '1810', '3.10', '-73.989494', '40.769588', '-73.990303', '40.737347'] \u001b[0m\n",
      "\u001b[34m ['890699222C47C09FBC898758CEC69762', '6318C3AEC02248928C3345B5805EB905', 'CMT', '1', 'N', '2013-02-08 08:56:54', '2013-02-08 08:59:43', '1', '168', '1.00', '-73.963036', '40.799141', '-73.972168', '40.786446'] \u001b[0m\n",
      "\u001b[34m ['74B7D835C2CD98606D5256DA8A38E045', 'D5E278C918256D1F97680A1F04D290E0', 'CMT', '1', 'N', '2013-02-08 09:37:02', '2013-02-08 09:50:50', '1', '828', '2.10', '-73.987953', '40.728764', '-74.007118', '40.705399'] \u001b[0m\n",
      "\u001b[34m ['4003B8478418FEC5D761E2F37602769B', '0B766F1054A5C16D86BC023858BD8143', 'CMT', '1', 'N', '2013-02-08 19:31:25', '2013-02-08 19:46:23', '1', '897', '3.30', '-73.987282', '40.743042', '-74.010284', '40.703964'] \u001b[0m\n",
      "\u001b[34m ['D72DF7B12201912BFDBB93081EF04C96', 'AFD828EEF790A2485BBB0B568A8BE22E', 'CMT', '1', 'N', '2013-02-08 23:10:01', '2013-02-08 23:46:15', '4', '2173', '7.60', '-73.993004', '40.720154', '-73.959747', '40.80854'] \u001b[0m\n"
     ]
    }
   ],
   "source": [
    "import csv\n",
    "import datetime\n",
    "file_Name='trip_data_2.csv'\n",
    "file=open(file_Name, 'r')\n",
    "reader=csv.reader(file)\n",
    "sample=0\n",
    "for row in reader:\n",
    "    print(\"\\033[34m\",row,\"\\033[0m\")\n",
    "    if sample > 5:\n",
    "        break\n",
    "    sample +=1"
   ]
  },
  {
   "attachments": {},
   "cell_type": "markdown",
   "metadata": {},
   "source": [
    "```python\n",
    "* Here we are counting the total number of rows in trip_data_2.csv file, here row_count variable is used to place the row value.\n",
    "```"
   ]
  },
  {
   "cell_type": "code",
   "execution_count": 2,
   "metadata": {},
   "outputs": [
    {
     "name": "stdout",
     "output_type": "stream",
     "text": [
      "Total Number Of Rows: \u001b[34m 13990170 \u001b[0m\n"
     ]
    }
   ],
   "source": [
    "row_count=0\n",
    "for row in reader:\n",
    "    if row_count % 1000000 == 0:\n",
    "        pass\n",
    "    row_count += 1\n",
    "print(\"Total Number Of Rows: \"\"\\033[34m\",row_count,\"\\033[0m\")"
   ]
  },
  {
   "attachments": {},
   "cell_type": "markdown",
   "metadata": {},
   "source": [
    "```python\n",
    "* Here we write a code to find the datetime range for the column for pickup_datetime that is find the min and max of the pickup_datetime\n",
    "```"
   ]
  },
  {
   "cell_type": "code",
   "execution_count": 3,
   "metadata": {},
   "outputs": [
    {
     "name": "stdout",
     "output_type": "stream",
     "text": [
      "Datetime range minimum is: \u001b[34m 2013-02-01 00:00:00 \u001b[0m and maximun is: \u001b[34m 2013-02-28 23:59:59 \u001b[0m\n"
     ]
    }
   ],
   "source": [
    "file_Name='trip_data_2.csv'\n",
    "file=open(file_Name, 'r')\n",
    "reader=csv.reader(file)\n",
    "temp=0\n",
    "minimum_Value= None\n",
    "maximum_Value= None\n",
    "for row in reader:\n",
    "    if temp > 0:\n",
    "        dts= row[5]\n",
    "        dto= None\n",
    "        try:\n",
    "            dto =datetime.datetime.strptime(dts,\"%Y-%m-%d %H:%M:%S\")\n",
    "        except Exception as e:\n",
    "            print(e)\n",
    "        if dto is not None:\n",
    "            if temp == 1:\n",
    "                minimum_Value = dto\n",
    "                maximum_Value = dto\n",
    "            if dto < minimum_Value:\n",
    "                minimum_Value = dto\n",
    "            elif dto > maximum_Value:\n",
    "                maximum_Value = dto\n",
    "    temp+=1\n",
    "    if temp > row_count:\n",
    "        break\n",
    "print(\"Datetime range minimum is: \" \"\\033[34m\", minimum_Value , \"\\033[0m\" \" and maximun is: \" \"\\033[34m\", maximum_Value, \"\\033[0m\")"
   ]
  },
  {
   "attachments": {},
   "cell_type": "markdown",
   "metadata": {},
   "source": [
    "```python\n",
    "* Here we find the max and minimun values for pickup and dropoff latitude and longitude\n",
    "```"
   ]
  },
  {
   "cell_type": "code",
   "execution_count": 26,
   "metadata": {},
   "outputs": [
    {
     "name": "stdout",
     "output_type": "stream",
     "text": [
      "Minimum value in the 'pickup_latitude' row: 40.5\n",
      "Maximum value in the 'pickup_latitude' row: 40.899998\n",
      "Minimum value in the 'pickup_longitude' row: -74.25\n",
      "Maximum value in the 'pickup_longitude' row: -73.700035\n",
      "Minimum value in the 'dropoff_latitude' row: 40.5\n",
      "Maximum value in the 'dropoff_latitude' row: 40.899994\n",
      "Minimum value in the 'dropoff_longitude' row: -74.25\n",
      "Maximum value in the 'dropoff_longitude' row: -73.700005\n"
     ]
    }
   ],
   "source": [
    "import csv\n",
    "\n",
    "count = 0\n",
    "pickup_latitude_values = []\n",
    "pickup_longitude_values = []\n",
    "dropoff_latitude_values = []\n",
    "dropoff_longitude_values = []\n",
    "\n",
    "lat_min = 40.5 ;lat_max = 40.9\n",
    "lon_min = -74.25 ;lon_max= -73.7\n",
    "\n",
    "\n",
    "with open('trip_data_2.csv', 'r') as file:\n",
    "    reader = csv.reader(file)\n",
    "\n",
    "    next(reader)\n",
    "\n",
    "    for row in reader:\n",
    "        if(row[10] and row[11] and row[12] and row[13]):\n",
    "            pickup_lat = float(row[11])\n",
    "            pickup_lon = float(row[10])\n",
    "            dropoff_lat = float(row[13])\n",
    "            dropoff_lon = float(row[12])\n",
    "\n",
    "        \n",
    "            if(pickup_lat >= lat_min and pickup_lat <= lat_max):\n",
    "                pickup_latitude_values.append(pickup_lat)\n",
    "            if(pickup_lon >= lon_min and pickup_lon <= lon_max):\n",
    "                pickup_longitude_values.append(pickup_lon)\n",
    "            if(dropoff_lat >= lat_min and dropoff_lat <= lat_max):\n",
    "                dropoff_latitude_values.append(dropoff_lat)\n",
    "            if(dropoff_lon >= lon_min and dropoff_lon <= lon_max):\n",
    "                dropoff_longitude_values.append(dropoff_lon)\n",
    "        \n",
    "\n",
    "    min_value_latitude_pickup = min(pickup_latitude_values)\n",
    "    max_value_latitude_pickup = max(pickup_latitude_values)\n",
    "\n",
    "    min_value_longitude_pickup = min(pickup_longitude_values)\n",
    "    max_value_longitude_pickup = max(pickup_longitude_values)\n",
    "\n",
    "\n",
    "    min_value_latitude_dropoff = min(dropoff_latitude_values)\n",
    "    max_value_latitude_dropoff = max(dropoff_latitude_values)\n",
    "\n",
    "    min_value_longitude_dropoff = min(dropoff_longitude_values)\n",
    "    max_value_longitude_dropoff = max(dropoff_longitude_values)\n",
    "\n",
    "    print(f\"Minimum value in the 'pickup_latitude' row: {min_value_latitude_pickup}\")\n",
    "    print(f\"Maximum value in the 'pickup_latitude' row: {max_value_latitude_pickup}\")\n",
    "    print(f\"Minimum value in the 'pickup_longitude' row: {min_value_longitude_pickup}\")\n",
    "    print(f\"Maximum value in the 'pickup_longitude' row: {max_value_longitude_pickup}\")\n",
    "\n",
    "    print(f\"Minimum value in the 'dropoff_latitude' row: {min_value_latitude_dropoff}\")\n",
    "    print(f\"Maximum value in the 'dropoff_latitude' row: {max_value_latitude_dropoff}\")\n",
    "    print(f\"Minimum value in the 'dropoff_longitude' row: {min_value_longitude_dropoff}\")\n",
    "    print(f\"Maximum value in the 'dropoff_longitude' row: {max_value_longitude_dropoff}\")\n",
    "\n"
   ]
  },
  {
   "attachments": {},
   "cell_type": "markdown",
   "metadata": {},
   "source": [
    "```python\n",
    "* Below we calculated the average trip distance with haversine distance formula.\n",
    "```"
   ]
  },
  {
   "cell_type": "code",
   "execution_count": 34,
   "metadata": {},
   "outputs": [
    {
     "name": "stdout",
     "output_type": "stream",
     "text": [
      "Average Haversine Distance: 19.48 km\n"
     ]
    }
   ],
   "source": [
    "import csv\n",
    "from math import radians, cos, sin, asin, sqrt\n",
    "\n",
    "def haversine(lon1, lat1, lon2, lat2):\n",
    "    \"\"\"\n",
    "    Calculate the great circle distance in kilometers between two points \n",
    "    on the earth (specified in decimal degrees)\n",
    "    \"\"\"\n",
    "    lon1_radians, lat1_radians, lon2_radians, lat2_radians = map(radians, [lon1, lat1, lon2, lat2])\n",
    "\n",
    "    delta_longitude = lon2_radians - lon1_radians \n",
    "    delta_latitude = lat2_radians - lat1_radians \n",
    "    a = sin(delta_latitude/2)**2 + cos(lat1_radians) * cos(lat2_radians) * sin(delta_longitude/2)**2\n",
    "    c = 2 * asin(sqrt(a)) \n",
    "    earth_radius = 6371\n",
    "    return c * earth_radius\n",
    "\n",
    "with open('trip_data_2.csv', 'r') as file:\n",
    "    reader = csv.reader(file)\n",
    "\n",
    "    total_distance = 0.0\n",
    "    exception_count = 0\n",
    "    distance_list = []\n",
    "    n = 0\n",
    "\n",
    "    for row in reader:\n",
    "        n += 1\n",
    "        try:\n",
    "            pickup_longitude, pickup_latitude, dropoff_longitude, dropoff_latitude = map(float, [row[10], row[11], row[12], row[13]])\n",
    "\n",
    "            distance = haversine(pickup_longitude, pickup_latitude, dropoff_longitude, dropoff_latitude)\n",
    "            total_distance += distance\n",
    "            distance_list.append(distance)\n",
    "        except Exception as e:\n",
    "            exception_count += 1\n",
    "\n",
    "    print(f\"Average Haversine Distance: {total_distance / (n - exception_count):.2f} km\")\n"
   ]
  },
  {
   "attachments": {},
   "cell_type": "markdown",
   "metadata": {},
   "source": [
    "```python\n",
    "* Below we write a code to print distinct values.\n",
    "```"
   ]
  },
  {
   "cell_type": "code",
   "execution_count": 3,
   "metadata": {},
   "outputs": [
    {
     "name": "stdout",
     "output_type": "stream",
     "text": [
      "Vendor_id: 3\n",
      "Rate_code: 13\n",
      "Store_and_fwd_flag: 4\n",
      "Passenger_count: 13\n"
     ]
    }
   ],
   "source": [
    "import csv\n",
    "import datetime\n",
    "file_Name='trip_data_2.csv'\n",
    "file=open(file_Name, 'r')\n",
    "reader=csv.reader(file) \n",
    "\n",
    "vendor_id={}\n",
    "rate_code={}\n",
    "store_and_fwd_flag={}\n",
    "passenger_count={}\n",
    "\n",
    "n=0\n",
    "for row in reader:\n",
    "    i=row[2]\n",
    "    if i in vendor_id:\n",
    "        vendor_id[i]+=1\n",
    "    else:\n",
    "        vendor_id[i]=1\n",
    "\n",
    "    i=row[3]\n",
    "    if i in rate_code:\n",
    "        rate_code[i]+=1\n",
    "    else:\n",
    "        rate_code[i]=1\n",
    "\n",
    "    i=row[4]\n",
    "    if i in store_and_fwd_flag:\n",
    "        store_and_fwd_flag[i]+=1\n",
    "    else:\n",
    "        store_and_fwd_flag[i]=1\n",
    "\n",
    "    i=row[7]\n",
    "    if i in passenger_count:\n",
    "        passenger_count[i]+=1\n",
    "    else:\n",
    "        passenger_count[i]=1\n",
    "\n",
    "vendor_id=dict(sorted(vendor_id.items(),key=lambda item:item[1],reverse=True))\n",
    "rate_code=dict(sorted(rate_code.items(),key=lambda item:item[1],reverse=True))\n",
    "store_and_fwd_flag=dict(sorted(store_and_fwd_flag.items(),key=lambda item:item[1],reverse=True))\n",
    "passenger_count=dict(sorted(passenger_count.items(),key=lambda item:item[1],reverse=True))\n",
    "\n",
    "print('Vendor_id:',len(vendor_id))\n",
    "print('Rate_code:',len(rate_code))\n",
    "print('Store_and_fwd_flag:',len(store_and_fwd_flag))\n",
    "print('Passenger_count:',len(passenger_count))"
   ]
  },
  {
   "attachments": {},
   "cell_type": "markdown",
   "metadata": {},
   "source": [
    "```python\n",
    "* Below we write a code to print min and max values for numeric data.\n",
    "```"
   ]
  },
  {
   "cell_type": "code",
   "execution_count": 23,
   "metadata": {},
   "outputs": [
    {
     "name": "stdout",
     "output_type": "stream",
     "text": [
      "Minimum Value of rate_code: 0  Maximum Value of rate_code: 79\n",
      "Minimum Value of datetime: 2013-02-01 00:00:00  Maximum Value of datetime: 2013-02-28 23:59:59\n",
      "Minimum Value of passenger count: 0  Maximum Value of passenger count: 208\n",
      "Minimum Value of trip time in seconds: 0  Maximum Value of trip time in seconds: 10800\n"
     ]
    }
   ],
   "source": [
    "import csv\n",
    "import datetime\n",
    "file_Name='trip_data_2.csv'\n",
    "file=open(file_Name, 'r')\n",
    "reader=csv.reader(file)\n",
    "\n",
    "temp=0\n",
    "min_val_datetime=None\n",
    "max_val_datetime=None\n",
    "min_val_ratecode=None\n",
    "max_val_ratecode=None\n",
    "min_val_passenger_count=None\n",
    "max_val_passenger_count=None\n",
    "min_val_trip_time=None\n",
    "max_val_trip_time=None\n",
    "\n",
    "for row in reader:\n",
    "    if temp>0:\n",
    "        #min and max for rate_code\n",
    "        n=row[3]\n",
    "        if temp==1:\n",
    "            min_val_ratecode=n\n",
    "            max_val_ratecode=n\n",
    "        elif n < min_val_ratecode:\n",
    "            min_val_ratecode=n\n",
    "        elif n > max_val_ratecode:\n",
    "            max_val_ratecode=n\n",
    "\n",
    "        #min and max for passenger_count\n",
    "        n=int(row[7])\n",
    "        if n is not None:\n",
    "            if temp==1:\n",
    "                min_val_passenger_count=n\n",
    "                max_val_passenger_count=n\n",
    "            elif n < min_val_passenger_count:\n",
    "                min_val_passenger_count=n\n",
    "            elif n > max_val_passenger_count:\n",
    "                max_val_passenger_count=n\n",
    "        \n",
    "        #min and max for trip_time_in_secs\n",
    "        n=int(row[8])\n",
    "        if n is not None:\n",
    "            if temp==1:\n",
    "                min_val_trip_time=n\n",
    "                max_val_trip_time=n\n",
    "            elif n < min_val_trip_time:\n",
    "                min_val_trip_time=n\n",
    "            elif n > max_val_trip_time:\n",
    "                max_val_trip_time=n\n",
    "\n",
    "        # min and max for datetime\n",
    "        dts=row[5]\n",
    "        dto=None\n",
    "        try:\n",
    "            dto=datetime.datetime.strptime(dts,'%Y-%m-%d %H:%M:%S')\n",
    "        except Exception as e:\n",
    "            print(e)\n",
    "        if dto is not None:\n",
    "            if temp==1:\n",
    "                min_val_datetime=dto\n",
    "                max_val_datetime=dto\n",
    "            elif dto < min_val_datetime:\n",
    "                min_val_datetime=dto\n",
    "            elif dto > max_val_datetime:\n",
    "                max_val_datetime=dto\n",
    "    temp+=1\n",
    "    if temp > row_count:\n",
    "        break\n",
    "print('Minimum Value of rate_code:',min_val_ratecode,' Maximum Value of rate_code:',max_val_ratecode)\n",
    "print('Minimum Value of datetime:',min_val_datetime,' Maximum Value of datetime:',max_val_datetime)\n",
    "print('Minimum Value of passenger count:',min_val_passenger_count,' Maximum Value of passenger count:',max_val_passenger_count)\n",
    "print('Minimum Value of trip time in seconds:',min_val_trip_time,' Maximum Value of trip time in seconds:',max_val_trip_time)\n"
   ]
  },
  {
   "attachments": {},
   "cell_type": "markdown",
   "metadata": {},
   "source": [
    "```python\n",
    "* Below is the code to find the average number of passangers for an hour in a day.\n",
    "```"
   ]
  },
  {
   "cell_type": "code",
   "execution_count": 17,
   "metadata": {},
   "outputs": [
    {
     "name": "stdout",
     "output_type": "stream",
     "text": [
      "[1.7605710460390698, 1.7577571574669502, 1.757020022634902, 1.7563143647241217, 1.7163068815242728, 1.6028169014084508, 1.554187546244832, 1.5947585797869954, 1.624848783966196, 1.6265314339981007, 1.6539808622871415, 1.6726301706804845, 1.6746395193688166, 1.6836743906985414, 1.6929617909865202, 1.7183483951748004, 1.721255943910603, 1.7045470187271494, 1.7051555288689297, 1.7125476967938544, 1.7129610194273157, 1.7337663307018438, 1.750093585338211, 1.7614047640961845]\n"
     ]
    }
   ],
   "source": [
    "import datetime\n",
    "import csv\n",
    "\n",
    "filename = 'trip_data_2.csv'\n",
    "file = open(filename, 'r')\n",
    "reader = csv.reader(file)\n",
    "\n",
    "# Initialize variables\n",
    "exception_count = 0\n",
    "record_count = 0\n",
    "passenger_count_list = [0] * 24\n",
    "hourly_count_list = [0] * 24\n",
    "\n",
    "next(reader)\n",
    "# Loop through each row in the file\n",
    "for row in reader:\n",
    "    record_count += 1\n",
    "    # Parse the date string into a datetime object\n",
    "    try:\n",
    "        date_str = row[5]\n",
    "        datetime_obj = datetime.datetime.strptime(date_str, \"%Y-%m-%d %H:%M:%S\")\n",
    "        hour = datetime_obj.hour\n",
    "\n",
    "    except Exception as e:\n",
    "        exception_count += 1\n",
    "        print(e)\n",
    "\n",
    "    # Extract the hour of the day from the datetime object\n",
    "    #hour = datetime_obj.hour\n",
    "\n",
    "    # Parse the passenger count and update the hourly and total passenger count\n",
    "    try:\n",
    "        passenger_count = int(row[7])\n",
    "        hourly_count_list[hour] += 1\n",
    "        passenger_count_list[hour] += passenger_count\n",
    "    except Exception as e:\n",
    "        print(e)\n",
    "\n",
    "\n",
    "\n",
    "averages = []\n",
    "\n",
    "for i in range(len(hourly_count_list)):\n",
    " averages.append(passenger_count_list[i] / hourly_count_list[i])\n",
    "\n",
    "print(averages)"
   ]
  },
  {
   "attachments": {},
   "cell_type": "markdown",
   "metadata": {},
   "source": [
    "```python\n",
    "* Here we imported calculated values into seperate .xlsx file.\n",
    "```"
   ]
  },
  {
   "cell_type": "code",
   "execution_count": 25,
   "metadata": {},
   "outputs": [],
   "source": [
    "#pip install xlsxwriter\n",
    "\n",
    "import xlsxwriter\n",
    "\n",
    "workbook = xlsxwriter.Workbook('question9.xlsx')\n",
    "\n",
    "worksheet = workbook.add_worksheet()\n",
    "\n",
    "worksheet.write(0, 0, 'hour')\n",
    "worksheet.write(0, 1, 'Average')\n",
    "index = 0\n",
    "for entry in averages:\n",
    "    worksheet.write(index+1, 0, str(index))\n",
    "    worksheet.write(index+1, 1, entry)\n",
    "    index = index+1\n",
    "\n",
    "workbook.close()"
   ]
  },
  {
   "attachments": {},
   "cell_type": "markdown",
   "metadata": {},
   "source": [
    "```python\n",
    "* Here we created a reduced csv file which has only one out of every thousand rows.\n",
    "```"
   ]
  },
  {
   "cell_type": "code",
   "execution_count": 2,
   "metadata": {},
   "outputs": [],
   "source": [
    "import csv\n",
    "\n",
    "with open('trip_data_2.csv', 'r') as f:\n",
    "    with open('new.csv', 'w', newline='') as g:\n",
    "        writer = csv.writer(g)\n",
    "        header = next(csv.reader(f))\n",
    "        writer.writerow(header)\n",
    "        for i, row in enumerate(csv.reader(f)):\n",
    "            if i % 1000 == 0:\n",
    "                writer.writerow(row)\n"
   ]
  },
  {
   "attachments": {},
   "cell_type": "markdown",
   "metadata": {},
   "source": [
    "```python\n",
    "* Here repeated code to find average number of passangers with reduced dataset.\n",
    "```"
   ]
  },
  {
   "cell_type": "code",
   "execution_count": 10,
   "metadata": {},
   "outputs": [
    {
     "name": "stdout",
     "output_type": "stream",
     "text": [
      "[1.7562724014336917, 1.7698209718670077, 1.8086642599277978, 1.7671232876712328, 1.5763888888888888, 1.3984962406015038, 1.5503355704697988, 1.5318725099601593, 1.5530546623794212, 1.6204724409448819, 1.5395348837209302, 1.7338582677165355, 1.658640226628895, 1.6233183856502242, 1.7101063829787233, 1.755813953488372, 1.6457990115321253, 1.746288798920378, 1.7358943577430972, 1.7603583426651737, 1.6615017878426699, 1.7132442284325637, 1.8505291005291005, 1.7216]\n"
     ]
    }
   ],
   "source": [
    "import datetime\n",
    "import csv\n",
    "\n",
    "filename = 'new.csv'\n",
    "file = open(filename, 'r')\n",
    "reader = csv.reader(file)\n",
    "\n",
    "# Initialize variables\n",
    "exception_count = 0\n",
    "record_count = 0\n",
    "passenger_count_list = [0] * 24\n",
    "hourly_count_list = [0] * 24\n",
    "\n",
    "next(reader)\n",
    "# Loop through each row in the file\n",
    "for row in reader:\n",
    "    record_count += 1\n",
    "\n",
    "    # Parse the date string into a datetime object\n",
    "    try:\n",
    "        date_str = row[5]\n",
    "        datetime_obj = datetime.datetime.strptime(date_str, \"%Y-%m-%d %H:%M:%S\")\n",
    "        hour = datetime_obj.hour\n",
    "\n",
    "    except Exception as e:\n",
    "        exception_count += 1\n",
    "\n",
    "    # Extract the hour of the day from the datetime object\n",
    "    #hour = datetime_obj.hour\n",
    "\n",
    "    # Parse the passenger count and update the hourly and total passenger count\n",
    "    try:\n",
    "        passenger_count = int(row[7])\n",
    "        hourly_count_list[hour] += 1\n",
    "        passenger_count_list[hour] += passenger_count\n",
    "    except Exception as e:\n",
    "        None\n",
    "\n",
    "\n",
    "\n",
    "averages = []\n",
    "\n",
    "for i in range(len(hourly_count_list)):\n",
    "  averages.append(passenger_count_list[i] / hourly_count_list[i])\n",
    "\n",
    "print(averages)\n",
    "\n"
   ]
  },
  {
   "cell_type": "code",
   "execution_count": 16,
   "metadata": {},
   "outputs": [],
   "source": [
    "#pip install xlsxwriter\n",
    "\n",
    "import xlsxwriter\n",
    "\n",
    "workbook = xlsxwriter.Workbook('question11.xlsx')\n",
    "\n",
    "worksheet = workbook.add_worksheet()\n",
    "\n",
    "worksheet.write(0, 0, '#')\n",
    "worksheet.write(0, 1, 'Average')\n",
    "index = 0\n",
    "for entry in averages:\n",
    "    worksheet.write(index+1, 0, str(index))\n",
    "    worksheet.write(index+1, 1, entry)\n",
    "    index = index+1\n",
    "\n",
    "workbook.close()\n",
    "\n"
   ]
  }
 ],
 "metadata": {
  "kernelspec": {
   "display_name": "Python 3",
   "language": "python",
   "name": "python3"
  },
  "language_info": {
   "codemirror_mode": {
    "name": "ipython",
    "version": 3
   },
   "file_extension": ".py",
   "mimetype": "text/x-python",
   "name": "python",
   "nbconvert_exporter": "python",
   "pygments_lexer": "ipython3",
   "version": "3.11.1"
  },
  "orig_nbformat": 4
 },
 "nbformat": 4,
 "nbformat_minor": 2
}
